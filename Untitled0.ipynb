{
  "nbformat": 4,
  "nbformat_minor": 0,
  "metadata": {
    "colab": {
      "provenance": [],
      "authorship_tag": "ABX9TyPU0BCssPRVS2pDh7K219+0",
      "include_colab_link": true
    },
    "kernelspec": {
      "name": "python3",
      "display_name": "Python 3"
    },
    "language_info": {
      "name": "python"
    }
  },
  "cells": [
    {
      "cell_type": "markdown",
      "metadata": {
        "id": "view-in-github",
        "colab_type": "text"
      },
      "source": [
        "<a href=\"https://colab.research.google.com/github/AlanMatheus18/python.trab/blob/main/Untitled0.ipynb\" target=\"_parent\"><img src=\"https://colab.research.google.com/assets/colab-badge.svg\" alt=\"Open In Colab\"/></a>"
      ]
    },
    {
      "cell_type": "code",
      "execution_count": null,
      "metadata": {
        "id": "zalDrzJBx3iD"
      },
      "outputs": [],
      "source": [
        "class Animal():\n",
        "        def __init__(self, nome, peso):\n",
        "          self.__nome = nome\n",
        "          self.__peso = peso\n",
        "        def __str__(self):\n",
        "            return 'Nome: %s \\nPeso: %f' % (self.__nome, self.peso)\n",
        "        def __gt__(self, other):\n",
        "            return self.__peso > other.__peso\n",
        "        def __add__(self, other):\n",
        "          return Animal(self.__nome + ', ' + other.__nome, self.__peso + other.__peso)\n",
        "          \n",
        "        def alimentar(self, comida):\n",
        "              self.peso += comida\n",
        "        \n",
        "        @property\n",
        "        def nome(self):\n",
        "                return self.__nome\n",
        "        @nome.setter\n",
        "        def nome(self, new_name):\n",
        "                  if type(new_name) == type(str()):\n",
        "                          self.__nome = new_name\n",
        "\n",
        "# Polimorfismo - Code 2 desenvolva o restante no desafio...\n",
        "from Animal import Animal\n",
        "class Mamifero(Animal):\n",
        "          def __init__(self, pele, corpo, mama):\n",
        "            self.__pele = pelos\n",
        "            self.__corpo = vertebrado\n",
        "            self.__mama = mamalia\n",
        "            return 'Pele: %s \\nCorpo: %s \\nMama: %s' % (self.__pele, self.corpo, self.mama)\n",
        "          def __gt__(self, other):\n",
        "            return self.__pele > other.__pele\n",
        "\n"
      ]
    },
    {
      "cell_type": "code",
      "source": [],
      "metadata": {
        "id": "WxaVb_CE_nrx"
      },
      "execution_count": null,
      "outputs": []
    }
  ]
}